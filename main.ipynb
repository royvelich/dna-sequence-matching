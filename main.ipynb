{
 "cells": [
  {
   "cell_type": "code",
   "execution_count": 33,
   "metadata": {
    "collapsed": true,
    "pycharm": {
     "name": "#%%\n"
    }
   },
   "outputs": [],
   "source": [
    "import numpy\n",
    "from matplotlib import pyplot\n",
    "from numpy.random import default_rng\n",
    "from scipy.stats import wasserstein_distance\n",
    "import matplotlib\n",
    "import matplotlib.pyplot as plt\n",
    "\n",
    "\n",
    "def get_fragment_indices(fragment, min_length):\n",
    "    while True:\n",
    "        indices_count = fragment.shape[0]\n",
    "        start_index = numpy.random.randint(indices_count)\n",
    "        for end_index in range(start_index, indices_count):\n",
    "            if fragment[end_index] - fragment[start_index] > min_length:\n",
    "                indices = numpy.array(list(range(start_index, end_index+1)))\n",
    "                return indices\n",
    "\n",
    "\n",
    "def match_fragments(full_fragment, partial_fragment):\n",
    "    full_fragment_length = numpy.max(full_fragment)\n",
    "    partial_fragment_length = numpy.max(partial_fragment)\n",
    "    start_pos = 0\n",
    "    end_pos = partial_fragment_length\n",
    "    delta = 0.00001\n",
    "    max_dist = numpy.inf\n",
    "    matched_indices = None\n",
    "    x = []\n",
    "    y = []\n",
    "    while end_pos < 1:\n",
    "        # indices = numpy.where(numpy.any((full_fragment > start_pos) and (full_fragment < end_pos)))\n",
    "        # indices = numpy.where(numpy.any(full_fragment > start_pos))\n",
    "        index_predicates = (full_fragment > start_pos) & (full_fragment < end_pos)\n",
    "        indices = numpy.where(index_predicates)[0]\n",
    "        indices.sort()\n",
    "\n",
    "        current_fragment = full_fragment[indices]\n",
    "        current_fragment = current_fragment - current_fragment[0]\n",
    "\n",
    "        dist = wasserstein_distance(current_fragment, partial_fragment)\n",
    "        x.append(start_pos)\n",
    "        y.append(dist)\n",
    "        if dist < max_dist:\n",
    "            max_dist = dist\n",
    "            matched_indices = indices\n",
    "\n",
    "        end_pos = end_pos + delta\n",
    "        start_pos = start_pos + delta\n",
    "\n",
    "    return matched_indices, numpy.array(x), numpy.array(y)"
   ]
  },
  {
   "cell_type": "code",
   "execution_count": 34,
   "outputs": [
    {
     "ename": "IndexError",
     "evalue": "index 0 is out of bounds for axis 0 with size 0",
     "output_type": "error",
     "traceback": [
      "\u001B[1;31m---------------------------------------------------------------------------\u001B[0m",
      "\u001B[1;31mIndexError\u001B[0m                                Traceback (most recent call last)",
      "Input \u001B[1;32mIn [34]\u001B[0m, in \u001B[0;36m<cell line: 23>\u001B[1;34m()\u001B[0m\n\u001B[0;32m     20\u001B[0m \u001B[38;5;66;03m# scale = 1\u001B[39;00m\n\u001B[0;32m     22\u001B[0m transformed_sampled_partial_fragment \u001B[38;5;241m=\u001B[39m scale \u001B[38;5;241m*\u001B[39m (sampled_partial_fragment \u001B[38;5;241m-\u001B[39m sampled_partial_fragment[\u001B[38;5;241m0\u001B[39m])\n\u001B[1;32m---> 23\u001B[0m matched_indices, x_pos, y_dist \u001B[38;5;241m=\u001B[39m \u001B[43mmatch_fragments\u001B[49m\u001B[43m(\u001B[49m\u001B[43mfull_fragment\u001B[49m\u001B[38;5;241;43m=\u001B[39;49m\u001B[43mfull_fragment\u001B[49m\u001B[43m,\u001B[49m\u001B[43m \u001B[49m\u001B[43mpartial_fragment\u001B[49m\u001B[38;5;241;43m=\u001B[39;49m\u001B[43mtransformed_sampled_partial_fragment\u001B[49m\u001B[43m)\u001B[49m\n\u001B[0;32m     24\u001B[0m matched_fragment \u001B[38;5;241m=\u001B[39m full_fragment[matched_indices]\n",
      "Input \u001B[1;32mIn [33]\u001B[0m, in \u001B[0;36mmatch_fragments\u001B[1;34m(full_fragment, partial_fragment)\u001B[0m\n\u001B[0;32m     34\u001B[0m indices\u001B[38;5;241m.\u001B[39msort()\n\u001B[0;32m     36\u001B[0m current_fragment \u001B[38;5;241m=\u001B[39m full_fragment[indices]\n\u001B[1;32m---> 37\u001B[0m current_fragment \u001B[38;5;241m=\u001B[39m current_fragment \u001B[38;5;241m-\u001B[39m \u001B[43mcurrent_fragment\u001B[49m\u001B[43m[\u001B[49m\u001B[38;5;241;43m0\u001B[39;49m\u001B[43m]\u001B[49m\n\u001B[0;32m     39\u001B[0m dist \u001B[38;5;241m=\u001B[39m wasserstein_distance(current_fragment, partial_fragment)\n\u001B[0;32m     40\u001B[0m x\u001B[38;5;241m.\u001B[39mappend(start_pos)\n",
      "\u001B[1;31mIndexError\u001B[0m: index 0 is out of bounds for axis 0 with size 0"
     ]
    }
   ],
   "source": [
    "size = 100\n",
    "rng = default_rng(seed=0)\n",
    "full_fragment = rng.uniform(size=size)\n",
    "full_fragment.sort()\n",
    "\n",
    "partial_fragment_indices = get_fragment_indices(fragment=full_fragment, min_length=0.1)\n",
    "partial_fragment = full_fragment[partial_fragment_indices]\n",
    "sampling_factor = 0.9\n",
    "sampled_partial_fragment_size = int(partial_fragment_indices.shape[0] * sampling_factor)\n",
    "sampled_partial_fragment_meta_indices = numpy.random.choice(partial_fragment_indices.shape[0], sampled_partial_fragment_size, replace=False)\n",
    "sampled_partial_fragment_meta_indices.sort()\n",
    "\n",
    "sampled_partial_fragment_indices = partial_fragment_indices[sampled_partial_fragment_meta_indices]\n",
    "sampled_partial_fragment = full_fragment[sampled_partial_fragment_indices]\n",
    "sampled_partial_fragment.sort()\n",
    "\n",
    "min_scale = 0.95\n",
    "max_scale = 1.05\n",
    "scale = (max_scale - min_scale) * numpy.random.random(1) + min_scale\n",
    "# scale = 1\n",
    "\n",
    "transformed_sampled_partial_fragment = scale * (sampled_partial_fragment - sampled_partial_fragment[0])\n",
    "matched_indices, x_pos, y_dist = match_fragments(full_fragment=full_fragment, partial_fragment=transformed_sampled_partial_fragment)\n",
    "matched_fragment = full_fragment[matched_indices]"
   ],
   "metadata": {
    "collapsed": false,
    "pycharm": {
     "name": "#%%\n"
    }
   }
  },
  {
   "cell_type": "code",
   "execution_count": null,
   "outputs": [],
   "source": [
    "plt.figure(figsize=(40,2))\n",
    "y1 = numpy.zeros_like(full_fragment)\n",
    "x1 = full_fragment\n",
    "plt.plot(x1, y1, 'o', markersize=2)\n",
    "\n",
    "y2 = numpy.zeros_like(partial_fragment)\n",
    "x2 = partial_fragment\n",
    "plt.plot(x2, y2, 'o', markersize=2, markerfacecolor='red', markeredgecolor='red')\n",
    "\n",
    "# y3 = numpy.zeros_like(sampled_partial_fragment)\n",
    "# x3 = sampled_partial_fragment\n",
    "# plt.plot(x3, y3, 'o', markersize=2, markerfacecolor='green', markeredgecolor='green')\n",
    "plt.xlim(0, 1)\n",
    "plt.show()\n",
    "\n",
    "plt.figure(figsize=(40,2))\n",
    "y3 = numpy.zeros_like(sampled_partial_fragment)\n",
    "x3 = sampled_partial_fragment\n",
    "plt.plot(x3, y3, 'o', markersize=2, markerfacecolor='green', markeredgecolor='green')\n",
    "plt.xlim(0, 1)\n",
    "plt.show()\n",
    "\n",
    "plt.figure(figsize=(40,2))\n",
    "y4 = numpy.zeros_like(matched_fragment)\n",
    "x4 = matched_fragment\n",
    "plt.plot(x4, y4, 'o', markersize=2, markerfacecolor='purple', markeredgecolor='purple')\n",
    "plt.xlim(0, 1)\n",
    "plt.show()\n",
    "\n",
    "\n",
    "plt.figure(figsize=(40, 10))\n",
    "plt.plot(x_pos, y_dist, '-', markersize=2)\n",
    "plt.xlim(0, 1)"
   ],
   "metadata": {
    "collapsed": false,
    "pycharm": {
     "name": "#%%\n"
    }
   }
  },
  {
   "cell_type": "code",
   "execution_count": null,
   "outputs": [],
   "source": [],
   "metadata": {
    "collapsed": false,
    "pycharm": {
     "name": "#%%\n"
    }
   }
  }
 ],
 "metadata": {
  "kernelspec": {
   "display_name": "Python 3",
   "language": "python",
   "name": "python3"
  },
  "language_info": {
   "codemirror_mode": {
    "name": "ipython",
    "version": 2
   },
   "file_extension": ".py",
   "mimetype": "text/x-python",
   "name": "python",
   "nbconvert_exporter": "python",
   "pygments_lexer": "ipython2",
   "version": "2.7.6"
  }
 },
 "nbformat": 4,
 "nbformat_minor": 0
}