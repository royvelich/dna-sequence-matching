{
 "cells": [
  {
   "cell_type": "code",
   "execution_count": 5,
   "metadata": {
    "collapsed": true,
    "pycharm": {
     "name": "#%%\n"
    }
   },
   "outputs": [
    {
     "name": "stderr",
     "output_type": "stream",
     "text": [
      "C:\\Users\\roy.ve\\AppData\\Local\\Temp\\ipykernel_19160\\450827228.py:13: DeprecationWarning: Importing display from IPython.core.display is deprecated since IPython 7.14, please import from IPython display\n",
      "  from IPython.core.display import display, HTML\n"
     ]
    }
   ],
   "source": [
    "import os\n",
    "import numpy\n",
    "from matplotlib import pyplot\n",
    "from numpy.random import default_rng\n",
    "from scipy.stats import wasserstein_distance\n",
    "import matplotlib\n",
    "import matplotlib.pyplot as plt\n",
    "import Bio\n",
    "import Bio.SeqRecord\n",
    "import Bio.SeqIO\n",
    "import pygtrie\n",
    "import re\n",
    "from IPython.core.display import display, HTML\n",
    "\n",
    "\n",
    "def get_subfragment_indices_by_length(fragment, subfragment_min_length):\n",
    "    while True:\n",
    "        fragment_indices_count = fragment.shape[0]\n",
    "        start_index = numpy.random.randint(fragment_indices_count)\n",
    "        for end_index in range(start_index, fragment_indices_count):\n",
    "            if fragment[end_index] - fragment[start_index] > subfragment_min_length:\n",
    "                indices = numpy.array(list(range(start_index, end_index+1)))\n",
    "                return indices\n",
    "\n",
    "\n",
    "def get_subfragment_indices_by_count(fragment, subfragment_indices_count):\n",
    "    while True:\n",
    "        fragment_indices_count = fragment.shape[0]\n",
    "        start_index = numpy.random.randint(fragment_indices_count)\n",
    "        end_index = start_index + subfragment_indices_count - 1\n",
    "        if end_index < fragment_indices_count:\n",
    "            indices = numpy.array(list(range(start_index, end_index + 1)))\n",
    "            return indices\n",
    "\n",
    "\n",
    "def match_fragments(full_fragment, partial_fragment):\n",
    "    normalized_partial_fragment = partial_fragment - partial_fragment[0]\n",
    "    full_fragment_length = numpy.max(full_fragment)\n",
    "    partial_fragment_length = numpy.max(normalized_partial_fragment)\n",
    "    start_pos = 0\n",
    "    end_pos = partial_fragment_length\n",
    "    delta = 0.0000001\n",
    "    max_dist = numpy.inf\n",
    "    matched_indices = None\n",
    "    x = []\n",
    "    y = []\n",
    "    while end_pos < 1:\n",
    "        # indices = numpy.where(numpy.any((full_fragment > start_pos) and (full_fragment < end_pos)))\n",
    "        # indices = numpy.where(numpy.any(full_fragment > start_pos))\n",
    "        index_predicates = (full_fragment > start_pos) & (full_fragment < end_pos)\n",
    "        indices = numpy.where(index_predicates)[0]\n",
    "        indices.sort()\n",
    "\n",
    "        current_fragment = full_fragment[indices]\n",
    "        if current_fragment.shape[0] > 0:\n",
    "            current_fragment = current_fragment - current_fragment[0]\n",
    "            dist = wasserstein_distance(current_fragment, normalized_partial_fragment)\n",
    "            x.append(start_pos)\n",
    "            y.append(dist)\n",
    "            if dist < max_dist:\n",
    "                max_dist = dist\n",
    "                matched_indices = indices\n",
    "\n",
    "        end_pos = end_pos + delta\n",
    "        start_pos = start_pos + delta\n",
    "\n",
    "    return matched_indices, numpy.array(x), numpy.array(y)\n",
    "\n",
    "\n",
    "def dye_chromosome(chromosome: Bio.SeqRecord.SeqRecord, fluorochrome: str):\n",
    "    chromosome = chromosome.lower()\n",
    "    fluorochrome = fluorochrome.lower()\n",
    "    chromosome_str = str(chromosome.seq)\n",
    "    indices = [m.start() for m in re.finditer(fluorochrome, chromosome_str)]\n",
    "    fragment = numpy.array(indices).astype(float) / float(len(chromosome_str))\n",
    "    return indices, fragment\n",
    "\n",
    "\n",
    "def plot_fragment(fragment, color, markersize=4):\n",
    "    y = numpy.zeros_like(fragment)\n",
    "    x = fragment\n",
    "    plt.plot(x, y, 'o', markersize=markersize, markerfacecolor=color, markeredgecolor=color)\n",
    "    plt.tick_params(axis='both', which='major', labelsize=15)\n",
    "    plt.tick_params(axis='both', which='minor', labelsize=15)\n",
    "\n",
    "\n",
    "def plot_fragments(full_fragment, partial_fragment, sampled_partial_fragment, transformed_sampled_partial_fragment, transformed_noised_sampled_partial_fragment, matched_fragment, x_dist, y_dist):\n",
    "    figsize=(60, 5)\n",
    "    fontsize = 20\n",
    "    plt.figure(figsize=figsize)\n",
    "    plot_fragment(fragment=full_fragment, color='blue')\n",
    "    plot_fragment(fragment=partial_fragment, color='red')\n",
    "    plt.xlim(0, 1)\n",
    "    plt.title(\"Full Sequence and Partial Sequence\", fontsize=fontsize)\n",
    "    plt.show()\n",
    "\n",
    "    # y3 = numpy.zeros_like(sampled_partial_fragment)\n",
    "    # x3 = sampled_partial_fragment\n",
    "    # plt.plot(x3, y3, 'o', markersize=2, markerfacecolor='green', markeredgecolor='green')\n",
    "\n",
    "\n",
    "    plt.figure(figsize=figsize)\n",
    "    plot_fragment(fragment=sampled_partial_fragment, color='green')\n",
    "    plt.xlim(0, 1)\n",
    "    plt.title(\"Sampled Partial Sequence\", fontsize=fontsize)\n",
    "    plt.show()\n",
    "\n",
    "    plt.figure(figsize=figsize)\n",
    "    plot_fragment(fragment=transformed_sampled_partial_fragment, color='magenta')\n",
    "    plt.xlim(0, 1)\n",
    "    plt.title(\"Sampled and Scaled Partial Sequence\", fontsize=fontsize)\n",
    "    plt.show()\n",
    "\n",
    "    plt.figure(figsize=figsize)\n",
    "    plot_fragment(fragment=transformed_noised_sampled_partial_fragment, color='orange')\n",
    "    plt.xlim(0, 1)\n",
    "    plt.title(\"Sampled, Scaled and Noised Partial Sequence\", fontsize=fontsize)\n",
    "    plt.show()\n",
    "\n",
    "    plt.figure(figsize=figsize)\n",
    "    plot_fragment(fragment=matched_fragment, color='purple')\n",
    "    plt.xlim(0, 1)\n",
    "    plt.show()\n",
    "\n",
    "    plt.figure(figsize=figsize)\n",
    "    plt.plot(x_dist, y_dist, '-', markersize=2)\n",
    "    plt.xlim(0, 1)\n",
    "    plt.title(\"Matched Sequence\", fontsize=fontsize)\n",
    "    plt.show()"
   ]
  },
  {
   "cell_type": "code",
   "execution_count": 6,
   "outputs": [
    {
     "name": "stdout",
     "output_type": "stream",
     "text": [
      "chromosome4_segment length: 190214555\n"
     ]
    }
   ],
   "source": [
    "    filename = os.path.normpath(\"C:/dna/GCA_000001405.29_GRCh38.p14_genomic.fna\")\n",
    "    seq_dict = {rec.id: rec for rec in Bio.SeqIO.parse(filename, \"fasta\")}\n",
    "    chromosome4 = seq_dict['CM000666.2']\n",
    "    # chromosome4_segment = chromosome4[88227200:88704008]\n",
    "    chromosome4_segment = chromosome4\n",
    "    chromosome4_segment_len = len(chromosome4_segment.seq)\n",
    "    print(f'chromosome4_segment length: {chromosome4_segment_len}')\n",
    "    full_fragment_indices, full_fragment = dye_chromosome(chromosome=chromosome4_segment, fluorochrome='CTTAAG')"
   ],
   "metadata": {
    "collapsed": false,
    "pycharm": {
     "name": "#%%\n"
    }
   }
  },
  {
   "cell_type": "code",
   "execution_count": null,
   "outputs": [
    {
     "data": {
      "text/plain": "<IPython.core.display.HTML object>",
      "text/html": "<h1>========= Experiment 0 =========</h1>"
     },
     "metadata": {},
     "output_type": "display_data"
    },
    {
     "name": "stdout",
     "output_type": "stream",
     "text": [
      "len(partial_fragment_indices): 16\n",
      "noise: [-1.49152797e-07 -2.19167660e-07 -1.65745363e-07 -1.07069117e-07\n",
      "  5.99330301e-07 -8.06366587e-08 -3.51527400e-08  3.47319411e-07\n",
      " -4.67143023e-07  1.38515761e-07 -4.89404181e-07  2.34070129e-07\n",
      " -1.66544599e-07 -1.24784776e-07  6.10275278e-08 -1.94525454e-07]\n",
      "noise (bases): [-28.37103292 -41.68887896 -31.52718041 -20.36610451 114.00134656\n",
      " -15.33826615  -6.68656279  66.06520722 -88.85740232  26.34771389\n",
      " -93.09179852  44.52354549 -31.67920677 -23.73588066  11.60832404\n",
      " -37.00157276]\n",
      "full fragment length: 45312\n",
      "partial fragment length: 16\n"
     ]
    }
   ],
   "source": [
    "    # partial_fragment_indices = get_subfragment_indices_by_length(fragment=full_fragment, subfragment_min_length=0.1)\n",
    "    experiments_count = 10\n",
    "    for i in range(experiments_count):\n",
    "        display(HTML(f'<h1>========= Experiment {i} =========</h1>'))\n",
    "        # print(f'========= Experiment {i} =========')\n",
    "\n",
    "        partial_fragment_indices = get_subfragment_indices_by_count(fragment=full_fragment, subfragment_indices_count=16)\n",
    "        print(f'len(partial_fragment_indices): {len(partial_fragment_indices)}')\n",
    "        partial_fragment = full_fragment[partial_fragment_indices]\n",
    "\n",
    "        sampling_factor = 1\n",
    "        # sampled_partial_fragment_size = int(partial_fragment_indices.shape[0] * sampling_factor)\n",
    "        sampled_partial_fragment_size = 16\n",
    "        # sampled_partial_fragment_meta_indices = numpy.random.choice(partial_fragment_indices.shape[0], sampled_partial_fragment_size, replace=False)\n",
    "        # sampled_partial_fragment_meta_indices.sort()\n",
    "\n",
    "        # sampled_partial_fragment_indices = partial_fragment_indices[sampled_partial_fragment_meta_indices]\n",
    "        sampled_partial_fragment_indices = partial_fragment_indices[:sampled_partial_fragment_size]\n",
    "        sampled_partial_fragment = full_fragment[sampled_partial_fragment_indices]\n",
    "        sampled_partial_fragment.sort()\n",
    "\n",
    "        min_scale = 0.95\n",
    "        max_scale = 1.05\n",
    "        scale = (max_scale - min_scale) * numpy.random.random(1) + min_scale\n",
    "\n",
    "        mu, sigma = 0, 50\n",
    "        # transformed_sampled_partial_fragment = scale * (sampled_partial_fragment - sampled_partial_fragment[0])\n",
    "        transformed_sampled_partial_fragment = scale * sampled_partial_fragment\n",
    "        # transformed_sampled_partial_fragment = transformed_sampled_partial_fragment - transformed_sampled_partial_fragment[0]\n",
    "        noise = numpy.random.normal(mu, sigma, transformed_sampled_partial_fragment.shape[0])\n",
    "        noise = noise / chromosome4_segment_len\n",
    "\n",
    "        print(f'noise: {noise}')\n",
    "        print(f'noise (bases): {noise * chromosome4_segment_len}')\n",
    "\n",
    "        # transformed_noised_sampled_partial_fragment = transformed_sampled_partial_fragment + noise\n",
    "        transformed_noised_sampled_partial_fragment = transformed_sampled_partial_fragment\n",
    "        # transformed_noised_sampled_partial_fragment = transformed_noised_sampled_partial_fragment - transformed_noised_sampled_partial_fragment[0]\n",
    "\n",
    "        print(f'full fragment length: {full_fragment.shape[0]}')\n",
    "        print(f'partial fragment length: {transformed_sampled_partial_fragment.shape[0]}')\n",
    "\n",
    "        matched_indices, x_dist, y_dist = match_fragments(full_fragment=full_fragment, partial_fragment=transformed_noised_sampled_partial_fragment)\n",
    "        matched_fragment = full_fragment[matched_indices]\n",
    "\n",
    "        print(f'matched indices: {matched_indices}')\n",
    "        print(f'partial fragment indices: {partial_fragment_indices}')\n",
    "\n",
    "        indices_diff = len(list(set(partial_fragment_indices) - set(matched_indices)))\n",
    "        indices_count = len(list(partial_fragment_indices))\n",
    "        if indices_diff > indices_count:\n",
    "            print(f'matching_ratio: FAILED')\n",
    "        else:\n",
    "            matching_ratio = 1 - (indices_diff / indices_count)\n",
    "            print(f'matching_ratio: {matching_ratio}')\n",
    "\n",
    "        plot_fragments(\n",
    "            full_fragment=full_fragment,\n",
    "            partial_fragment=partial_fragment,\n",
    "            sampled_partial_fragment=sampled_partial_fragment,\n",
    "            transformed_sampled_partial_fragment=transformed_sampled_partial_fragment,\n",
    "            transformed_noised_sampled_partial_fragment=transformed_noised_sampled_partial_fragment,\n",
    "            matched_fragment=matched_fragment,\n",
    "            x_dist=x_dist,\n",
    "            y_dist=y_dist)"
   ],
   "metadata": {
    "collapsed": false,
    "pycharm": {
     "name": "#%%\n",
     "is_executing": true
    }
   }
  },
  {
   "cell_type": "code",
   "execution_count": null,
   "outputs": [],
   "source": [],
   "metadata": {
    "collapsed": false,
    "pycharm": {
     "name": "#%%\n",
     "is_executing": true
    }
   }
  }
 ],
 "metadata": {
  "kernelspec": {
   "display_name": "Python 3",
   "language": "python",
   "name": "python3"
  },
  "language_info": {
   "codemirror_mode": {
    "name": "ipython",
    "version": 2
   },
   "file_extension": ".py",
   "mimetype": "text/x-python",
   "name": "python",
   "nbconvert_exporter": "python",
   "pygments_lexer": "ipython2",
   "version": "2.7.6"
  }
 },
 "nbformat": 4,
 "nbformat_minor": 0
}