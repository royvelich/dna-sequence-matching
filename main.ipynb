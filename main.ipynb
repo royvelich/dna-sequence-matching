{
 "cells": [
  {
   "cell_type": "code",
   "execution_count": 100,
   "metadata": {
    "collapsed": true,
    "pycharm": {
     "name": "#%%\n"
    }
   },
   "outputs": [],
   "source": [
    "import numpy\n",
    "from matplotlib import pyplot\n",
    "from numpy.random import default_rng\n",
    "from scipy.stats import wasserstein_distance\n",
    "import matplotlib\n",
    "import matplotlib.pyplot as plt\n",
    "\n",
    "\n",
    "def get_fragment_indices(fragment, min_length):\n",
    "    while True:\n",
    "        indices_count = fragment.shape[0]\n",
    "        start_index = numpy.random.randint(indices_count)\n",
    "        for end_index in range(start_index, indices_count):\n",
    "            if fragment[end_index] - fragment[start_index] > min_length:\n",
    "                indices = numpy.array(list(range(start_index, end_index+1)))\n",
    "                return indices\n",
    "\n",
    "\n",
    "def match_fragments(full_fragment, partial_fragment):\n",
    "    full_fragment_length = numpy.max(full_fragment)\n",
    "    partial_fragment_length = numpy.max(partial_fragment)\n",
    "    start_pos = 0\n",
    "    end_pos = partial_fragment_length\n",
    "    delta = 0.00001\n",
    "    max_dist = numpy.inf\n",
    "    matched_indices = None\n",
    "    while end_pos < 1:\n",
    "        # indices = numpy.where(numpy.any((full_fragment > start_pos) and (full_fragment < end_pos)))\n",
    "        # indices = numpy.where(numpy.any(full_fragment > start_pos))\n",
    "        index_predicates = (full_fragment > start_pos) & (full_fragment < end_pos)\n",
    "        indices = numpy.where(index_predicates)[0]\n",
    "        indices.sort()\n",
    "\n",
    "        current_fragment = full_fragment[indices]\n",
    "        current_fragment = current_fragment - current_fragment[0]\n",
    "\n",
    "        dist = wasserstein_distance(current_fragment, partial_fragment)\n",
    "        if dist < max_dist:\n",
    "            max_dist = dist\n",
    "            matched_indices = indices\n",
    "\n",
    "        end_pos = end_pos + delta\n",
    "        start_pos = start_pos + delta\n",
    "\n",
    "    return matched_indices"
   ]
  },
  {
   "cell_type": "code",
   "execution_count": 101,
   "outputs": [],
   "source": [
    "size = 100\n",
    "rng = default_rng(seed=0)\n",
    "full_fragment = rng.uniform(size=size)\n",
    "full_fragment.sort()\n",
    "\n",
    "partial_fragment_indices = get_fragment_indices(fragment=full_fragment, min_length=0.1)\n",
    "partial_fragment = full_fragment[partial_fragment_indices]\n",
    "sampling_factor = 0.8\n",
    "sampled_partial_fragment_size = int(partial_fragment_indices.shape[0] * sampling_factor)\n",
    "sampled_partial_fragment_meta_indices = numpy.random.choice(partial_fragment_indices.shape[0], sampled_partial_fragment_size, replace=False)\n",
    "sampled_partial_fragment_meta_indices.sort()\n",
    "\n",
    "sampled_partial_fragment_indices = partial_fragment_indices[sampled_partial_fragment_meta_indices]\n",
    "sampled_partial_fragment = full_fragment[sampled_partial_fragment_indices]\n",
    "sampled_partial_fragment.sort()\n",
    "\n",
    "min_scale = 0.95\n",
    "max_scale = 1.05\n",
    "scale = (max_scale - min_scale) * numpy.random.random(1) + min_scale\n",
    "# scale = 1\n",
    "\n",
    "transformed_sampled_partial_fragment = scale * (sampled_partial_fragment - sampled_partial_fragment[0])\n",
    "matched_indices = match_fragments(full_fragment=full_fragment, partial_fragment=transformed_sampled_partial_fragment)\n",
    "matched_fragment = full_fragment[matched_indices]"
   ],
   "metadata": {
    "collapsed": false,
    "pycharm": {
     "name": "#%%\n"
    }
   }
  },
  {
   "cell_type": "code",
   "execution_count": 102,
   "outputs": [
    {
     "data": {
      "text/plain": "<Figure size 2880x144 with 1 Axes>",
      "image/png": "[encoded data removed]"
     },
     "metadata": {
      "needs_background": "light"
     },
     "output_type": "display_data"
    },
    {
     "data": {
      "text/plain": "<Figure size 2880x144 with 1 Axes>",
      "image/png": "[encoded data removed]"
     },
     "metadata": {
      "needs_background": "light"
     },
     "output_type": "display_data"
    },
    {
     "data": {
      "text/plain": "<Figure size 2880x144 with 1 Axes>",
      "image/png": "[encoded data removed]"
     },
     "metadata": {
      "needs_background": "light"
     },
     "output_type": "display_data"
    }
   ],
   "source": [
    "plt.figure(figsize=(40,2))\n",
    "y1 = numpy.zeros_like(full_fragment)\n",
    "x1 = full_fragment\n",
    "plt.plot(x1, y1, 'o', markersize=2)\n",
    "\n",
    "y2 = numpy.zeros_like(partial_fragment)\n",
    "x2 = partial_fragment\n",
    "plt.plot(x2, y2, 'o', markersize=2, markerfacecolor='red', markeredgecolor='red')\n",
    "\n",
    "# y3 = numpy.zeros_like(sampled_partial_fragment)\n",
    "# x3 = sampled_partial_fragment\n",
    "# plt.plot(x3, y3, 'o', markersize=2, markerfacecolor='green', markeredgecolor='green')\n",
    "plt.xlim(0, 1)\n",
    "plt.show()\n",
    "\n",
    "plt.figure(figsize=(40,2))\n",
    "y3 = numpy.zeros_like(sampled_partial_fragment)\n",
    "x3 = sampled_partial_fragment\n",
    "plt.plot(x3, y3, 'o', markersize=2, markerfacecolor='green', markeredgecolor='green')\n",
    "plt.xlim(0, 1)\n",
    "plt.show()\n",
    "\n",
    "plt.figure(figsize=(40,2))\n",
    "y4 = numpy.zeros_like(matched_fragment)\n",
    "x4 = matched_fragment\n",
    "plt.plot(x4, y4, 'o', markersize=2, markerfacecolor='purple', markeredgecolor='purple')\n",
    "plt.xlim(0, 1)\n",
    "plt.show()"
   ],
   "metadata": {
    "collapsed": false,
    "pycharm": {
     "name": "#%%\n"
    }
   }
  },
  {
   "cell_type": "code",
   "execution_count": 102,
   "outputs": [],
   "source": [],
   "metadata": {
    "collapsed": false,
    "pycharm": {
     "name": "#%%\n"
    }
   }
  }
 ],
 "metadata": {
  "kernelspec": {
   "display_name": "Python 3",
   "language": "python",
   "name": "python3"
  },
  "language_info": {
   "codemirror_mode": {
    "name": "ipython",
    "version": 2
   },
   "file_extension": ".py",
   "mimetype": "text/x-python",
   "name": "python",
   "nbconvert_exporter": "python",
   "pygments_lexer": "ipython2",
   "version": "2.7.6"
  }
 },
 "nbformat": 4,
 "nbformat_minor": 0
}